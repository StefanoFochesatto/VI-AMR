{
 "cells": [
  {
   "cell_type": "code",
   "execution_count": 1,
   "metadata": {},
   "outputs": [],
   "source": [
    "import matplotlib.pyplot as plt\n",
    "import numpy as np\n",
    "import pandas as pd\n",
    "import subprocess\n",
    "import os\n",
    "import argparse"
   ]
  },
  {
   "cell_type": "code",
   "execution_count": 2,
   "metadata": {},
   "outputs": [],
   "source": [
    "\n",
    "def getPlot(Convdf, methodslist, x, y, title, plottype=None):\n",
    "\n",
    "    # plotting types\n",
    "    if plottype == \"loglog\":\n",
    "        convrates = []\n",
    "        for method in methodslist:\n",
    "            Conv = np.polyfit(np.log(Convdf[method][x].to_numpy()), np.log(\n",
    "                Convdf[method][y].to_numpy()), 1)\n",
    "            convrates.append(Conv[0])\n",
    "\n",
    "        plt.figure(figsize=(10, 6))\n",
    "        for i, method in enumerate(methodslist):\n",
    "            plt.loglog(Convdf[method][x].to_numpy(), Convdf[method][y].to_numpy(\n",
    "            ), label=f'{method} Convergence Rate: {convrates[i]:.2f}', marker='o')\n",
    "\n",
    "    elif plottype == \"semilog\":\n",
    "        plt.figure(figsize=(10, 6))\n",
    "        for i, method in enumerate(methodslist):\n",
    "            plt.semilogx(Convdf[method][x].to_numpy(),\n",
    "                         Convdf[method][y].to_numpy(), marker='o')\n",
    "\n",
    "    else:\n",
    "        plt.figure(figsize=(10, 6))\n",
    "        for i, scheme in enumerate(schemes):\n",
    "            plt.plot(Convdf[method][x].to_numpy(),\n",
    "                     Convdf[method][y].to_numpy(), marker='o')\n",
    "\n",
    "    plt.xlabel(x, fontsize=16)\n",
    "    plt.ylabel(y, fontsize=16)\n",
    "    plt.title(title)\n",
    "    plt.legend()\n",
    "    plt.grid(True)\n",
    "\n",
    "    # Ensure the Plots directory exists\n",
    "    results_dir = \"Plots\"\n",
    "    os.makedirs(results_dir, exist_ok=True)\n",
    "\n",
    "    # Construct the filename and save the plot\n",
    "    concattitle = \"\"\n",
    "    for method in methodslist:\n",
    "        concattitle += method + \"_\"\n",
    "\n",
    "    file_title = f\"{concattitle}{x}_vs_{y}.png\".replace(\" \", \"_\")\n",
    "    plt.savefig(os.path.join(results_dir, file_title))\n",
    "\n",
    "\n",
    "def create_multiindex_dataframe(result_dir, methodlist):\n",
    "    # Initialize an empty list to hold each method's DataFrame\n",
    "    dfs = []\n",
    "    for method in methodlist:\n",
    "        filename = f\"{method}.csv\"\n",
    "        file_path = os.path.join(result_dir, filename)\n",
    "        df = pd.read_csv(file_path)\n",
    "\n",
    "        # Create a MultiIndex for columns using the method name and original headers\n",
    "        multi_cols = [(method, col) for col in df.columns]\n",
    "        df.columns = pd.MultiIndex.from_tuples(multi_cols)\n",
    "\n",
    "        dfs.append(df)\n",
    "\n",
    "    # Concatenate all DataFrames horizontally to create the multi-index structure\n",
    "    combined_df = pd.concat(dfs, axis=1)\n",
    "    return combined_df"
   ]
  },
  {
   "cell_type": "code",
   "execution_count": 27,
   "metadata": {},
   "outputs": [],
   "source": [
    "current_dir = os.getcwd()\n",
    "results_dir = os.path.join(current_dir, \"ResultsLShaped\")\n",
    "methodlist = [os.path.splitext(filename)[0] for filename in os.listdir(results_dir)]\n",
    "Convdf = create_multiindex_dataframe(results_dir, methodlist)"
   ]
  },
  {
   "cell_type": "code",
   "execution_count": 28,
   "metadata": {},
   "outputs": [],
   "source": [
    "for method in methodlist:\n",
    "    Convdf[method, 'TotalTime'] = Convdf[method]['MeshTime'] + Convdf[method]['SolveTime']\n",
    "    Convdf[method, 'MeshTime/Elements'] = Convdf[method]['MeshTime']/Convdf[method]['Elements']\n",
    "    Convdf[method, 'SolveTime/Elements'] = Convdf[method]['SolveTime']/Convdf[method]['Elements']\n",
    "    Convdf[method, 'TotalTime/Elements'] = Convdf[method]['TotalTime']/Convdf[method]['Elements']\n",
    "\n",
    "Convdf = Convdf.sort_index(axis=1)"
   ]
  }
 ],
 "metadata": {
  "kernelspec": {
   "display_name": "Python 3",
   "language": "python",
   "name": "python3"
  },
  "language_info": {
   "codemirror_mode": {
    "name": "ipython",
    "version": 3
   },
   "file_extension": ".py",
   "mimetype": "text/x-python",
   "name": "python",
   "nbconvert_exporter": "python",
   "pygments_lexer": "ipython3",
   "version": "3.10.13"
  }
 },
 "nbformat": 4,
 "nbformat_minor": 2
}
